{
 "cells": [
  {
   "cell_type": "code",
   "execution_count": 1,
   "metadata": {
    "collapsed": true
   },
   "outputs": [],
   "source": [
    "#!/usr/bin/python\n",
    "\n",
    "import sys\n",
    "\n",
    "def writelp(lpfilename, prices, numsec, numscen):\n",
    "\n",
    "    try:\n",
    "        lpfile = open(lpfilename, 'w') # opens the file\n",
    "    except IOError:\n",
    "        print(\"Cannot open LP file %s for writing\\n\" % lpfilename)\n",
    "        return 1\n",
    "\n",
    "    print \"now writing LP to file\", lpfilename\n",
    "    lpfile.write(\"Minimize \")\n",
    "    j = 0\n",
    "    while j <= numsec:\n",
    "        if prices[j] >= 0:\n",
    "            lpfile.write(\"+ \")\n",
    "        lpfile.write(str(prices[j]) + \" x\" + str(j)+\" \")\n",
    "        # str converts argument into string;  \" +\" concatenates strings\n",
    "        j += 1\n",
    "    lpfile.write(\"\\nSubject to\\n\")\n",
    "\n",
    "    k = 0\n",
    "    while k <= numscen:\n",
    "        # write constraint for scenario k\n",
    "        lpfile.write(\"scen_\" + str(k) +\": \")\n",
    "        j = 0\n",
    "        while j <= numsec:\n",
    "            index = k*(1 + numsec) + j\n",
    "            if prices[index] >= 0:\n",
    "                lpfile.write(\"+ \")\n",
    "                lpfile.write(str(prices[index]) + \" x\" + str(j)+\" \")\n",
    "            j += 1\n",
    "        lpfile.write(\" >= 0\\n\")\n",
    "        k += 1\n",
    "\n",
    "    lpfile.write(\"Bounds\\n\")\n",
    "    j = 0\n",
    "    while j <= numsec:\n",
    "        lpfile.write(\"-1 <= x\" + str(j) + \" <= 1\\n\")\n",
    "        j += 1\n",
    "    lpfile.write(\"End\\n\")\n",
    "\n",
    "    print \"closing lp file\"\n",
    "    lpfile.close()\n",
    "      \n",
    "    return 0"
   ]
  },
  {
   "cell_type": "code",
   "execution_count": 2,
   "metadata": {},
   "outputs": [
    {
     "name": "stdout",
     "output_type": "stream",
     "text": [
      "\n",
      "\n",
      "number of securities: 6 number of scenarios 3 r 0.05\n",
      "\n",
      "\n",
      "total allocation: 28\n",
      "now writing LP to file test.lp\n",
      "closing lp file\n"
     ]
    }
   ],
   "source": [
    "#!/usr/bin/python\n",
    "\n",
    "#now open and read data file\n",
    "try:\n",
    "    datafile = open('arb.dat', 'r') # opens the data file\n",
    "except IOError:\n",
    "    sys.exit(\"Cannot open file %s\\n\" % sys.argv[1])\n",
    "\n",
    "\n",
    "lines = datafile.readlines();\n",
    "datafile.close()\n",
    "\n",
    "#print lines[0]\n",
    "firstline = lines[0].split()\n",
    "#print \"first line is\", firstline\n",
    "\n",
    "numsec = int(firstline[1])\n",
    "numscen = int(firstline[3])\n",
    "r = float(firstline[5])\n",
    "print \"\\n\"\n",
    "print \"number of securities:\", numsec,\"number of scenarios\", numscen,\"r\",r\n",
    "print \"\\n\"\n",
    "\n",
    "#allocate prices as one-dim array\n",
    "total = (1 + numsec)*(1 + numscen)\n",
    "print \"total allocation:\",  total\n",
    "p = [0]*total\n",
    "k = 0\n",
    "# line k+1 has scenario k (0 = today)\n",
    "while k <= numscen:\n",
    "    thisline = lines[k + 1].split()\n",
    "    # should check that the line contains numsec + 1 words\n",
    "\n",
    "    p[k*(1 + numsec)] = 1 + r*(k != 0) # handles the price of cash\n",
    "    j = 1\n",
    "    while j <= numsec:\n",
    "        value = float(thisline[j])\n",
    "        p[k*(1 + numsec) + j] = value\n",
    "        # print \">>\", \"k\",k, \"j\",j, k*(1 + numsec) + j\n",
    "        j += 1\n",
    "    k += 1\n",
    "\n",
    "#now write LP file, now done in a separate function (should read data this way, as well)\n",
    "\n",
    "lpwritecode = writelp('test.lp', p, numsec, numscen)\n",
    "\n",
    "#now solve lp \n",
    "\n",
    "#lpsolvecode = lpsolver(sys.argv[2], \"test.log\")\n",
    "\n",
    "#print \"solved LP at\", sys.argv[2],\"with code\", lpsolvecode"
   ]
  },
  {
   "cell_type": "code",
   "execution_count": 16,
   "metadata": {
    "collapsed": true
   },
   "outputs": [],
   "source": [
    "def writelp(lpfilename, prices, deviations, numsec, numscen):\n",
    "    try:\n",
    "        lpfile = open(lpfilename, 'w') # opens the file\n",
    "    except IOError:\n",
    "        print(\"Cannot open LP file %s for writing\\n\" % lpfilename)\n",
    "        return 1\n",
    "\n",
    "    print \"now writing LP to file\", lpfilename\n",
    "    lpfile.write(\"Minimize \")\n",
    "\n",
    "    j = 0\n",
    "    #Objective\n",
    "    while j <= numsec:\n",
    "        if prices[0][j] >= 0:\n",
    "            lpfile.write(\"+ \")\n",
    "            lpfile.write(str(prices[0][j]) + \" x\" + str(j)+\" \")\n",
    "        j += 1\n",
    "    lpfile.write(\"\\nSubject to\\n\")\n",
    "\n",
    "    k = 1\n",
    "    #dual constraints\n",
    "    while k <= numscen:\n",
    "        lpfile.write(\"A\" + str(k) +\": \")\n",
    "        j = 0\n",
    "        while j <= numsec:\n",
    "            if prices[k][j] >= 0:\n",
    "                lpfile.write(\"+ \")\n",
    "                lpfile.write(str(prices[k][j]) + \" u\" + str(k) + str(j) + \" -\")\n",
    "                lpfile.write(str(deviations[k][j]) + \" u\" + str(k) + str(j) + \" -\")\n",
    "                lpfile.write(str(prices[k][j]) + \" v\" + str(k) + str(j) + \" -\")\n",
    "                lpfile.write(str(deviations[k][j]) + \" v\" + str(k) + str(j) + \" \")\n",
    "            j += 1\n",
    "        lpfile.write(\">= 0\\n\")\n",
    "        k += 1\n",
    "\n",
    "    k = 1\n",
    "    while k <= numscen:\n",
    "        j = 0\n",
    "        while j <= numsec:\n",
    "            lpfile.write(\"B\" + str(k) + str(j) +\": \")\n",
    "            lpfile.write(\"u\" + str(k) + str(j) + \" -\")\n",
    "            lpfile.write(\" v\" + str(k) + str(j) + \" -\")\n",
    "            lpfile.write(\" x\" + str(j) + \" \")\n",
    "            lpfile.write(\"= 0\\n\")\n",
    "            j += 1\n",
    "        k += 1\n",
    "\n",
    "    lpfile.write(\"Bounds\\n\")\n",
    "    j = 0\n",
    "    while j <= numsec:\n",
    "        lpfile.write(\"-1 <= x\" + str(j) + \" <= 1\\n\")\n",
    "        k = 1\n",
    "        while k <= numscen:\n",
    "            lpfile.write(\"u\" + str(k) + str(j) + \" >= 0\\n\")\n",
    "            lpfile.write(\"v\" + str(k) + str(j) + \" >= 0\\n\")\n",
    "            k += 1\n",
    "        j += 1\n",
    "    lpfile.write(\"End\\n\")\n",
    "\n",
    "    print \"closing lp file\"\n",
    "    lpfile.close()\n",
    "\n",
    "    return 0"
   ]
  },
  {
   "cell_type": "code",
   "execution_count": 17,
   "metadata": {
    "collapsed": true
   },
   "outputs": [],
   "source": [
    "import numpy\n",
    "prices = [[1,1,1],[1,1,1],[1,1,1]]\n",
    "deviations = [[0.5,0.5,0.5],[0.5,0.5,0.5],[0.5,0.5,0.5]]"
   ]
  },
  {
   "cell_type": "code",
   "execution_count": 18,
   "metadata": {},
   "outputs": [
    {
     "name": "stdout",
     "output_type": "stream",
     "text": [
      "now writing LP to file test1.lp\n",
      "closing lp file\n"
     ]
    }
   ],
   "source": [
    "test = writelp('test1.lp', prices, deviations, 2, 2)"
   ]
  },
  {
   "cell_type": "code",
   "execution_count": null,
   "metadata": {
    "collapsed": true
   },
   "outputs": [],
   "source": []
  }
 ],
 "metadata": {
  "kernelspec": {
   "display_name": "Python 2",
   "language": "python",
   "name": "python2"
  },
  "language_info": {
   "codemirror_mode": {
    "name": "ipython",
    "version": 2
   },
   "file_extension": ".py",
   "mimetype": "text/x-python",
   "name": "python",
   "nbconvert_exporter": "python",
   "pygments_lexer": "ipython2",
   "version": "2.7.14"
  }
 },
 "nbformat": 4,
 "nbformat_minor": 2
}
