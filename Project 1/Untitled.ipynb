{
 "cells": [
  {
   "cell_type": "code",
   "execution_count": 1,
   "metadata": {
    "collapsed": true
   },
   "outputs": [],
   "source": [
    "import numpy as np\n",
    "import sys\n",
    "import time"
   ]
  },
  {
   "cell_type": "code",
   "execution_count": 4,
   "metadata": {
    "collapsed": true
   },
   "outputs": [],
   "source": [
    "def inputfile(filename):\n",
    "    try:\n",
    "        f = open(filename, 'r')\n",
    "    except IOError:\n",
    "        print (\"Cannot open file %s\\n\" % filename)\n",
    "        sys.exit(\"bye\")\n",
    "\n",
    "    # read data\n",
    "    data = f.readlines()\n",
    "    f.close()\n",
    "\n",
    "    line0 = data[0].split()\n",
    "    #print line0\n",
    "\n",
    "    if len(line0) == 0:\n",
    "        sys.exit(\"empty first line\")\n",
    "\n",
    "    n = int(line0[1])\n",
    "    print ('n = ', n)\n",
    "\n",
    "    matrix = np.zeros((n,n))\n",
    "\n",
    "    line1 = data[1].split()\n",
    "    #should check that line1[0] is the string 'matrix'\n",
    "    for i in range(n):\n",
    "        #read line i + 2\n",
    "        theline = data[i+2].split()\n",
    "        #print i, \" -> \", theline\n",
    "        for j in range(n):\n",
    "            valueij = float(theline[j])\n",
    "            #print i, j, numberij\n",
    "            matrix[i][j] = valueij\n",
    "\n",
    "    return matrix, n\n",
    "\n",
    "def runpower(M, n, eig, v):\n",
    "    #Params\n",
    "    oldnormw = 0\n",
    "    tolerance = 1e-06\n",
    "    convergence = False\n",
    "\n",
    "    T = 1 #number of iterations\n",
    "    for t in range(T):\n",
    "        if t == 0:\n",
    "            w0 = np.random.rand(n).reshape(-1,1)\n",
    "            #w0 = M@w/np.linalg.norm(M@w)\n",
    "            #print(w0[0:10,:])\n",
    "            #print(M[0:10,0:10])\n",
    "            print('M1',M[0:5,0:5])\n",
    "            M = M - eig*v@v.reshape(-1,1)\n",
    "            print('M2',M[0:5,0:5])\n",
    "            w = w0-((v@w0)*(v).reshape(-1,1))\n",
    "            normw = np.linalg.norm(M@w)\n",
    "            w = M@w/normw\n",
    "            #print(normw)\n",
    "            #print(w[0:10])\n",
    "        else:\n",
    "            normw = np.linalg.norm(M@w)\n",
    "            #print(normw)\n",
    "            w = M@w/normw\n",
    "\n",
    "        #print('t: ',t,'normw: ',normw)\n",
    "\n",
    "        if np.abs(normw - oldnormw)/normw < tolerance:\n",
    "            convergence = True\n",
    "            #print (t,'breaking')\n",
    "            break\n",
    "        oldnormw = normw\n",
    "    #if convergence == False:\n",
    "    #    raise error(\"Did not converge.\")\n",
    "\n",
    "    #calculate eigen using Raleigh quotient\n",
    "    eig = (w.T@M@w)/(w.T@w)\n",
    "    #print(eig)\n",
    "    return w.T,eig\n",
    "\n",
    "def eigen(M, n, tol):\n",
    "    print('i=0')\n",
    "    vector = np.zeros((M.shape[1],100000))\n",
    "    eig = np.zeros(100000)\n",
    "    vector[:,0], eig[0] = runpower(M, n, eig[0], vector[:,0])\n",
    "    i = 0\n",
    "    while (eig[i]/eig[0] >= tol):\n",
    "        print('i=',i)\n",
    "        if i == 1:\n",
    "            break\n",
    "        vector[:,i+1], eig[i+1] = runpower(M, n, eig[i], vector[:,i])\n",
    "        i = i+1\n",
    "\n",
    "    return vector, eig"
   ]
  },
  {
   "cell_type": "code",
   "execution_count": 27,
   "metadata": {},
   "outputs": [
    {
     "name": "stdout",
     "output_type": "stream",
     "text": [
      "n =  947\n",
      "i=0\n",
      "M1 [[  2.13272989e-04   2.02451953e-04   4.66137539e-05   6.70634730e-05\n",
      "    6.64694473e-05]\n",
      " [  2.02451953e-04   2.01184274e-04   4.09357886e-05   6.56836188e-05\n",
      "    6.79113752e-05]\n",
      " [  4.66137539e-05   4.09357886e-05   1.15274037e-03   8.89513817e-05\n",
      "    1.09235574e-04]\n",
      " [  6.70634730e-05   6.56836188e-05   8.89513817e-05   1.12789216e-04\n",
      "    4.91404127e-05]\n",
      " [  6.64694473e-05   6.79113752e-05   1.09235574e-04   4.91404127e-05\n",
      "    4.74213486e-04]]\n",
      "M2 [[  2.13272989e-04   2.02451953e-04   4.66137539e-05   6.70634730e-05\n",
      "    6.64694473e-05]\n",
      " [  2.02451953e-04   2.01184274e-04   4.09357886e-05   6.56836188e-05\n",
      "    6.79113752e-05]\n",
      " [  4.66137539e-05   4.09357886e-05   1.15274037e-03   8.89513817e-05\n",
      "    1.09235574e-04]\n",
      " [  6.70634730e-05   6.56836188e-05   8.89513817e-05   1.12789216e-04\n",
      "    4.91404127e-05]\n",
      " [  6.64694473e-05   6.79113752e-05   1.09235574e-04   4.91404127e-05\n",
      "    4.74213486e-04]]\n",
      "i= 0\n",
      "M1 [[  2.13272989e-04   2.02451953e-04   4.66137539e-05   6.70634730e-05\n",
      "    6.64694473e-05]\n",
      " [  2.02451953e-04   2.01184274e-04   4.09357886e-05   6.56836188e-05\n",
      "    6.79113752e-05]\n",
      " [  4.66137539e-05   4.09357886e-05   1.15274037e-03   8.89513817e-05\n",
      "    1.09235574e-04]\n",
      " [  6.70634730e-05   6.56836188e-05   8.89513817e-05   1.12789216e-04\n",
      "    4.91404127e-05]\n",
      " [  6.64694473e-05   6.79113752e-05   1.09235574e-04   4.91404127e-05\n",
      "    4.74213486e-04]]\n",
      "M2 [[-0.0827557  -0.08276652 -0.08292236 -0.08290191 -0.0829025 ]\n",
      " [-0.08276652 -0.08276779 -0.08292803 -0.08290329 -0.08290106]\n",
      " [-0.08292236 -0.08292803 -0.08181623 -0.08288002 -0.08285973]\n",
      " [-0.08290191 -0.08290329 -0.08288002 -0.08285618 -0.08291983]\n",
      " [-0.0829025  -0.08290106 -0.08285973 -0.08291983 -0.08249476]]\n"
     ]
    }
   ],
   "source": [
    "M, n = inputfile('russell_cov.txt')\n",
    "#print('M',M[0:10,0:10])\n",
    "vector, eig = eigen(M,n,0.7)\n",
    "#print(eig)"
   ]
  },
  {
   "cell_type": "code",
   "execution_count": null,
   "metadata": {
    "collapsed": true
   },
   "outputs": [],
   "source": [
    "eig,eigv = np.linalg.eigh(M)\n",
    "#print(eig)\n",
    "#print(eigv)\n",
    "print(eig[::-1][0:10])\n",
    "print(eigv[:,937:946])\n",
    "#seig = np.sort(eig)[::-1]\n",
    "#print(seig[0:20])"
   ]
  },
  {
   "cell_type": "code",
   "execution_count": 17,
   "metadata": {
    "collapsed": true
   },
   "outputs": [],
   "source": [
    "def runpower1(matrix, n):\n",
    "    v = np.zeros(n)\n",
    "    w = np.zeros(n)\n",
    "\n",
    "    for j in range(n):\n",
    "        v[j] = np.random.uniform(0,1)\n",
    "\n",
    "    #print 'matrix', matrix\n",
    "    #print 'v', v\n",
    "    T = 10000 #number of iterations\n",
    "    tolerance = 1e-06\n",
    "    oldnormw = 0\n",
    "    for t in range(T):\n",
    "        w = matrix.dot(v)\n",
    "        #print 't', t, 'w',w\n",
    "        normw = (np.inner(w,w))**.5\n",
    "\n",
    "        v = w/normw\n",
    "        #print 't',t,'v',v\n",
    "\n",
    "        #print 't',t,'normw',normw, 'old', oldnormw\n",
    "        if np.abs(normw - oldnormw)/normw < tolerance:\n",
    "            #print ' breaking'\n",
    "            break\n",
    "        oldnormw = normw\n",
    "    #comment: if t reaches T-1 the algorithm has not converged to tolerance\n",
    "    # within T iterations.  The function should return an error code in that\n",
    "    # case\n",
    "    eig = (v.T@M@v)/(v.T@v)\n",
    "    return eig, v\n"
   ]
  },
  {
   "cell_type": "code",
   "execution_count": 60,
   "metadata": {
    "collapsed": true
   },
   "outputs": [],
   "source": [
    "def runpower2(matrix, n,v):\n",
    "    #print(v)\n",
    "    #print 'matrix', matrix\n",
    "    #print 'v', v\n",
    "    T = 10000 #number of iterations\n",
    "    tolerance = 1e-06\n",
    "    oldnormw = 0\n",
    "    for t in range(T):\n",
    "        w = matrix.dot(v)\n",
    "        #print(w)\n",
    "        #print 't', t, 'w',w\n",
    "        normw = np.linalg.norm(w)\n",
    "\n",
    "        v = w/normw\n",
    "        #print 't',t,'v',v\n",
    "\n",
    "        #print 't',t,'normw',normw, 'old', oldnormw\n",
    "        if np.abs(normw - oldnormw)/normw < tolerance:\n",
    "            #print ' breaking'\n",
    "            break\n",
    "        oldnormw = normw\n",
    "    #comment: if t reaches T-1 the algorithm has not converged to tolerance\n",
    "    # within T iterations.  The function should return an error code in that\n",
    "    # case\n",
    "    eig = (v.T@M@v)/(v.T@v)\n",
    "    return eig, v"
   ]
  },
  {
   "cell_type": "code",
   "execution_count": 67,
   "metadata": {},
   "outputs": [
    {
     "name": "stdout",
     "output_type": "stream",
     "text": [
      "n =  947\n"
     ]
    }
   ],
   "source": [
    "M, n = inputfile('russell_cov.txt')\n",
    "eig, eigv = runpower1(M,n)"
   ]
  },
  {
   "cell_type": "code",
   "execution_count": 68,
   "metadata": {},
   "outputs": [],
   "source": [
    "M1= M - eig*eigv.reshape(-1,1)@np.array([eigv])\n",
    "v = np.zeros(n)\n",
    "w = np.zeros(n)\n",
    "\n",
    "for j in range(n):\n",
    "    v[j] = np.random.uniform(0,1)\n",
    "w=v\n",
    "#w = M@v/np.linalg.norm(M@v)\n",
    "w0 = w.reshape(-1,1) - np.array([eigv])@w.reshape(-1,1)*eigv.reshape(-1,1)\n",
    "eig2, eigv2 = runpower2(M1,n, w0)"
   ]
  },
  {
   "cell_type": "code",
   "execution_count": 69,
   "metadata": {},
   "outputs": [
    {
     "data": {
      "text/plain": [
       "array([[ 0.02177341]])"
      ]
     },
     "execution_count": 69,
     "metadata": {},
     "output_type": "execute_result"
    }
   ],
   "source": [
    "eig2"
   ]
  },
  {
   "cell_type": "code",
   "execution_count": null,
   "metadata": {
    "collapsed": true
   },
   "outputs": [],
   "source": []
  }
 ],
 "metadata": {
  "kernelspec": {
   "display_name": "Python 3",
   "language": "python",
   "name": "python3"
  },
  "language_info": {
   "codemirror_mode": {
    "name": "ipython",
    "version": 3
   },
   "file_extension": ".py",
   "mimetype": "text/x-python",
   "name": "python",
   "nbconvert_exporter": "python",
   "pygments_lexer": "ipython3",
   "version": "3.6.3"
  }
 },
 "nbformat": 4,
 "nbformat_minor": 2
}
